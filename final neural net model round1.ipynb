{
 "cells": [
  {
   "cell_type": "code",
   "execution_count": 1,
   "metadata": {
    "collapsed": true
   },
   "outputs": [],
   "source": [
    "import pandas as pd\n",
    "import numpy as np\n",
    "import matplotlib.pyplot as plt\n",
    "import seaborn as sns\n",
    "import numpy as np\n",
    "%matplotlib inline"
   ]
  },
  {
   "cell_type": "code",
   "execution_count": 2,
   "metadata": {
    "collapsed": true
   },
   "outputs": [],
   "source": [
    "train=pd.read_csv(\"train.csv\")"
   ]
  },
  {
   "cell_type": "code",
   "execution_count": 3,
   "metadata": {
    "collapsed": true
   },
   "outputs": [],
   "source": [
    "train.drop([1925,1188],inplace=True)"
   ]
  },
  {
   "cell_type": "code",
   "execution_count": 4,
   "metadata": {
    "collapsed": true
   },
   "outputs": [],
   "source": [
    "test=pd.read_csv(\"test.csv\")"
   ]
  },
  {
   "cell_type": "code",
   "execution_count": 5,
   "metadata": {
    "collapsed": true
   },
   "outputs": [],
   "source": [
    "train['source']='train'\n",
    "test['source']='test'\n",
    "data = pd.concat([train, test],ignore_index=True)"
   ]
  },
  {
   "cell_type": "code",
   "execution_count": 6,
   "metadata": {
    "collapsed": true
   },
   "outputs": [],
   "source": [
    "data[\"AvgAirTemp\"]=data[\"AvgAirTemp\"].fillna(data.groupby('Season')['AvgAirTemp'].transform(\"mean\"))\n",
    "data[\"AvgDewPt\"]=data[\"AvgDewPt\"].fillna(data.groupby('Season')['AvgDewPt'].transform(\"mean\"))\n",
    "data[\"AvgDewPtKurt\"]=data[\"AvgDewPtKurt\"].fillna(data.groupby(\"Season\")[\"AvgDewPtKurt\"].transform(\"mean\"))\n",
    "data[\"AvgDewPtSkew\"]=data[\"AvgDewPtSkew\"].fillna(data.groupby(\"Season\")[\"AvgDewPtSkew\"].transform(\"mean\"))\n",
    "data[\"AvgPrec\"]=data[\"AvgPrec\"].fillna(data.groupby(\"Year\")[\"AvgPrec\"].transform(\"mean\"))\n",
    "data[\"AvgPrecKurt\"]=data[\"AvgPrecKurt\"].fillna(data.groupby(\"Year\")[\"AvgPrecKurt\"].transform(\"mean\"))\n",
    "data[\"AvgPrecSkew\"]=data[\"AvgPrecSkew\"].fillna(data.groupby(\"Year\")[\"AvgPrecSkew\"].transform(\"mean\"))\n",
    "data[\"AvgRelHum\"]=data[\"AvgRelHum\"].fillna(data.groupby(\"Season\")[\"AvgRelHum\"].transform(\"mean\"))\n",
    "data[\"AvgRelHumKurt\"]=data[\"AvgRelHumKurt\"].fillna(data.groupby(\"Season\")[\"AvgRelHumKurt\"].transform(\"mean\"))\n",
    "data[\"AvgRelHumSkew\"]=data[\"AvgRelHumSkew\"].fillna(data.groupby(\"Season\")[\"AvgRelHumSkew\"].transform(\"mean\"))\n",
    "data[\"AvgTempKurt\"]=data[\"AvgTempKurt\"].fillna(data.groupby(\"Season\")[\"AvgTempKurt\"].transform(\"mean\"))\n",
    "data[\"AvgTempSkew\"]=data[\"AvgTempSkew\"].fillna(data.groupby(\"Season\")[\"AvgRelHumSkew\"].transform(\"mean\"))\n",
    "data[\"MinAirTemp\"]=data[\"MinAirTemp\"].fillna(data.groupby(\"Season\")[\"MinAirTemp\"].transform(\"min\"))\n",
    "data[\"MaxAirTemp\"]=data[\"MaxAirTemp\"].fillna(data.groupby(\"Season\")[\"MaxAirTemp\"].transform(\"max\"))\n",
    "data[\"AvgWind\"]=data[\"AvgWind\"].fillna(data.groupby(\"Season\")[\"AvgWind\"].transform(\"mean\"))"
   ]
  },
  {
   "cell_type": "code",
   "execution_count": 7,
   "metadata": {
    "collapsed": true
   },
   "outputs": [],
   "source": [
    "train_test=[data]\n",
    "season_map={\"Kharif\":2,\"Rabi\":1,\"Summer\":3,\"Whole year\":4}\n",
    "for gr in train_test:\n",
    "    gr[\"Season\"]=gr[\"Season\"].map(season_map)"
   ]
  },
  {
   "cell_type": "code",
   "execution_count": 8,
   "metadata": {},
   "outputs": [
    {
     "name": "stderr",
     "output_type": "stream",
     "text": [
      "/home/sirzechlucifer/anaconda3/lib/python3.6/site-packages/ipykernel_launcher.py:5: SettingWithCopyWarning: \n",
      "A value is trying to be set on a copy of a slice from a DataFrame\n",
      "\n",
      "See the caveats in the documentation: http://pandas.pydata.org/pandas-docs/stable/indexing.html#indexing-view-versus-copy\n",
      "  \"\"\"\n",
      "/home/sirzechlucifer/anaconda3/lib/python3.6/site-packages/ipykernel_launcher.py:6: SettingWithCopyWarning: \n",
      "A value is trying to be set on a copy of a slice from a DataFrame\n",
      "\n",
      "See the caveats in the documentation: http://pandas.pydata.org/pandas-docs/stable/indexing.html#indexing-view-versus-copy\n",
      "  \n"
     ]
    }
   ],
   "source": [
    "data[\"Season\"].astype('int64',copy=False)\n",
    "data.drop([\"District\",\"Crop\",\"Year\",\"MinAirTemp\",\"MaxAirTemp\",\"AvgWind\",\"Season\",\"AvgTempKurt\",\"AvgTempSkew\",\"AvgRelHumSkew\",\"AvgRelHumKurt\"],inplace=True,axis=1)\n",
    "train = data.loc[data['source']==\"train\"]\n",
    "test = data.loc[data['source']==\"test\"]\n",
    "test.drop(['source'],axis=1,inplace=True)\n",
    "train.drop(['source'],axis=1,inplace=True)"
   ]
  },
  {
   "cell_type": "code",
   "execution_count": 9,
   "metadata": {},
   "outputs": [
    {
     "name": "stderr",
     "output_type": "stream",
     "text": [
      "/home/sirzechlucifer/anaconda3/lib/python3.6/site-packages/ipykernel_launcher.py:3: SettingWithCopyWarning: \n",
      "A value is trying to be set on a copy of a slice from a DataFrame\n",
      "\n",
      "See the caveats in the documentation: http://pandas.pydata.org/pandas-docs/stable/indexing.html#indexing-view-versus-copy\n",
      "  This is separate from the ipykernel package so we can avoid doing imports until\n",
      "/home/sirzechlucifer/anaconda3/lib/python3.6/site-packages/ipykernel_launcher.py:4: SettingWithCopyWarning: \n",
      "A value is trying to be set on a copy of a slice from a DataFrame\n",
      "\n",
      "See the caveats in the documentation: http://pandas.pydata.org/pandas-docs/stable/indexing.html#indexing-view-versus-copy\n",
      "  after removing the cwd from sys.path.\n"
     ]
    }
   ],
   "source": [
    "ID=test[\"ID\"]\n",
    "target=train[\"Yield\"]\n",
    "train.drop([\"ID\",\"Yield\"],inplace=True,axis=1)\n",
    "test.drop([\"ID\",\"Yield\"],inplace=True,axis=1)"
   ]
  },
  {
   "cell_type": "code",
   "execution_count": 10,
   "metadata": {
    "collapsed": true
   },
   "outputs": [],
   "source": [
    "from sklearn.model_selection import train_test_split"
   ]
  },
  {
   "cell_type": "code",
   "execution_count": 11,
   "metadata": {
    "collapsed": true
   },
   "outputs": [],
   "source": [
    "#train_1,cross_val,target_train,target_crossval=train_test_split(train,target,test_size=0.20,shuffle=True)\n",
    "#cross_val1,test_crossval,target_crossval1,target_test=train_test_split(cross_val,target_crossval,test_size=0.1,shuffle=True)"
   ]
  },
  {
   "cell_type": "code",
   "execution_count": 12,
   "metadata": {},
   "outputs": [
    {
     "name": "stderr",
     "output_type": "stream",
     "text": [
      "Using TensorFlow backend.\n"
     ]
    }
   ],
   "source": [
    "from keras.models import Sequential\n",
    "from keras.layers import Dense\n",
    "from keras.wrappers.scikit_learn import KerasRegressor\n",
    "from sklearn.model_selection import cross_val_score\n",
    "from sklearn.model_selection import KFold\n",
    "from sklearn.preprocessing import StandardScaler\n",
    "from sklearn.pipeline import Pipeline\n",
    "from keras.layers import Dropout\n"
   ]
  },
  {
   "cell_type": "code",
   "execution_count": 13,
   "metadata": {
    "collapsed": true
   },
   "outputs": [],
   "source": [
    "from sklearn.model_selection import train_test_split\n",
    "from sklearn.preprocessing import StandardScaler"
   ]
  },
  {
   "cell_type": "code",
   "execution_count": 14,
   "metadata": {
    "collapsed": true
   },
   "outputs": [],
   "source": [
    "ss=StandardScaler()\n",
    "train=ss.fit_transform(train)\n",
    "test=ss.fit_transform(test)"
   ]
  },
  {
   "cell_type": "code",
   "execution_count": 15,
   "metadata": {
    "collapsed": true
   },
   "outputs": [],
   "source": [
    "#train_1,cross_val,target_train,target_crossval=train_test_split(train,target,test_size=0.20,shuffle=True)\n",
    "#cross_val1,test_crossval,target_crossval1,target_test=train_test_split(cross_val,target_crossval,test_size=0.1,shuffle=True)\n",
    "from keras import metrics\n",
    "from keras  import callbacks\n",
    "from keras.callbacks import EarlyStopping\n",
    "from keras import optimizers"
   ]
  },
  {
   "cell_type": "code",
   "execution_count": 17,
   "metadata": {},
   "outputs": [
    {
     "name": "stdout",
     "output_type": "stream",
     "text": [
      "Train on 1989 samples, validate on 853 samples\n",
      "Epoch 1/5\n",
      "1989/1989 [==============================] - 0s 163us/step - loss: 3.8357 - mean_absolute_error: 3.8357 - val_loss: 2.7976 - val_mean_absolute_error: 2.7976\n",
      "Epoch 2/5\n",
      "1989/1989 [==============================] - 0s 125us/step - loss: 3.7785 - mean_absolute_error: 3.7785 - val_loss: 2.7872 - val_mean_absolute_error: 2.7872\n",
      "Epoch 3/5\n",
      "1989/1989 [==============================] - 0s 134us/step - loss: 3.7669 - mean_absolute_error: 3.7669 - val_loss: 2.7801 - val_mean_absolute_error: 2.7801\n",
      "Epoch 4/5\n",
      "1989/1989 [==============================] - 0s 121us/step - loss: 3.7618 - mean_absolute_error: 3.7618 - val_loss: 2.7818 - val_mean_absolute_error: 2.7818\n",
      "Epoch 5/5\n",
      "1989/1989 [==============================] - 0s 131us/step - loss: 3.7571 - mean_absolute_error: 3.7571 - val_loss: 2.7737 - val_mean_absolute_error: 2.7737\n"
     ]
    },
    {
     "data": {
      "image/png": "[encoded data removed]",
      "text/plain": [
       "<matplotlib.figure.Figure at 0x7f535b1f18d0>"
      ]
     },
     "metadata": {},
     "output_type": "display_data"
    }
   ],
   "source": [
    "\n",
    "early_stop = EarlyStopping(monitor='val_loss', min_delta=0, patience=3, verbose=1, mode='auto')\n",
    "\n",
    "model = Sequential()\n",
    "model.add(Dense(30, input_dim=8, activation='relu'))\n",
    "model.add(Dense(20,activation='relu'))\n",
    "model.add(Dropout(0.1))\n",
    "model.add(Dense(10, activation='relu'))\n",
    "model.add(Dense(1, activation='linear'))\n",
    "adam=optimizers.Adam()\n",
    "model.compile(loss='mae', optimizer=adam,metrics=[metrics.mae])\n",
    "history=model.fit(train, target, validation_split=0.3, epochs=5, batch_size=10, verbose=1)\n",
    "training_loss = history.history['loss']\n",
    "test_loss = history.history['val_loss']\n",
    "\n",
    "# Create count of the number of epochs\n",
    "epoch_count = range(1, len(training_loss) + 1)\n",
    "\n",
    "# Visualize loss history\n",
    "plt.plot(epoch_count, training_loss, 'r--')\n",
    "plt.plot(epoch_count, test_loss, 'b-')\n",
    "plt.legend(['Training Loss', 'Test Loss'])\n",
    "plt.xlabel('Epoch')\n",
    "plt.ylabel('Loss')\n",
    "plt.show();"
   ]
  },
  {
   "cell_type": "code",
   "execution_count": 18,
   "metadata": {
    "collapsed": true
   },
   "outputs": [],
   "source": [
    "#from sklearn.metrics import mean_absolute_error\n",
    "#from sklearn.model_selection import train_test_split"
   ]
  },
  {
   "cell_type": "code",
   "execution_count": 19,
   "metadata": {
    "collapsed": true
   },
   "outputs": [],
   "source": [
    "#train_1,cross_val,target_train,target_crossval=train_test_split(train,target,test_size=0.20,shuffle=True)\n",
    "#cross_val1,test_crossval,target_crossval1,target_test=train_test_split(cross_val,target_crossval,test_size=0.1,shuffle=True)\n",
    "#model.fit(train,target,epochs=5,shuffle=True)\n",
    "#predictions=model.predict(cross_val1)\n",
    "#print(\"The mean absolute error is:\"+str(mean_absolute_error(predictions,target_crossval1)))\n",
    "#final_pred=model.predict(test_crossval)\n",
    "#print(\"The mean absolute test error is:\"+str(mean_absolute_error(final_pred,target_test)))"
   ]
  },
  {
   "cell_type": "code",
   "execution_count": 20,
   "metadata": {
    "collapsed": true
   },
   "outputs": [],
   "source": [
    "final_predictions=model.predict(test)"
   ]
  },
  {
   "cell_type": "code",
   "execution_count": 21,
   "metadata": {
    "collapsed": true
   },
   "outputs": [],
   "source": [
    "final_predictions=final_predictions.flatten()"
   ]
  },
  {
   "cell_type": "code",
   "execution_count": 22,
   "metadata": {},
   "outputs": [
    {
     "data": {
      "text/plain": [
       "(1897,)"
      ]
     },
     "execution_count": 22,
     "metadata": {},
     "output_type": "execute_result"
    }
   ],
   "source": [
    "final_predictions.shape"
   ]
  },
  {
   "cell_type": "code",
   "execution_count": 23,
   "metadata": {
    "collapsed": true
   },
   "outputs": [],
   "source": [
    "submission = pd.DataFrame({\"Id\":ID,\"Yield\": final_predictions})\n",
    "submission.to_csv('final.csv', index=False)"
   ]
  },
  {
   "cell_type": "code",
   "execution_count": null,
   "metadata": {
    "collapsed": true
   },
   "outputs": [],
   "source": []
  },
  {
   "cell_type": "code",
   "execution_count": null,
   "metadata": {
    "collapsed": true
   },
   "outputs": [],
   "source": []
  }
 ],
 "metadata": {
  "kernelspec": {
   "display_name": "Python 3",
   "language": "python",
   "name": "python3"
  },
  "language_info": {
   "codemirror_mode": {
    "name": "ipython",
    "version": 3
   },
   "file_extension": ".py",
   "mimetype": "text/x-python",
   "name": "python",
   "nbconvert_exporter": "python",
   "pygments_lexer": "ipython3",
   "version": "3.6.3"
  }
 },
 "nbformat": 4,
 "nbformat_minor": 2
}
