{
 "cells": [
  {
   "cell_type": "code",
   "execution_count": 1,
   "metadata": {
    "collapsed": true
   },
   "outputs": [],
   "source": [
    "import pandas as pd\n",
    "import numpy as np\n",
    "import seaborn as sns\n",
    "import matplotlib.pyplot as plt\n",
    "%matplotlib inline"
   ]
  },
  {
   "cell_type": "code",
   "execution_count": 2,
   "metadata": {
    "collapsed": true
   },
   "outputs": [],
   "source": [
    "train=pd.read_csv(\"train.csv\")"
   ]
  },
  {
   "cell_type": "code",
   "execution_count": 3,
   "metadata": {
    "collapsed": true
   },
   "outputs": [],
   "source": [
    "test=pd.read_csv(\"test.csv\")"
   ]
  },
  {
   "cell_type": "code",
   "execution_count": 4,
   "metadata": {
    "collapsed": true
   },
   "outputs": [],
   "source": [
    "numbers = pd.read_csv('index.csv',names=['no'])"
   ]
  },
  {
   "cell_type": "markdown",
   "metadata": {},
   "source": [
    "ID - An ID assigned to every campaign.\n",
    "\n",
    "\n",
    "Start Date - Date on which the campaign was started.\n",
    "\n",
    "\n",
    "End Date - Date on which the campaign will end.\n",
    "\n",
    "\n",
    "Category - Category to which the campaign belongs.\n",
    "\n",
    "\n",
    "Currency - Currency in which donations are accepted. Goal and amount collected are also specified in the same currency.\n",
    "\n",
    "\n",
    "Goal - Amount to be reached for the campaign to succeed.\n",
    "\n",
    "\n",
    "Status - The status of the campaign, either 'Success' or 'Failed'.\n"
   ]
  },
  {
   "cell_type": "code",
   "execution_count": 5,
   "metadata": {},
   "outputs": [
    {
     "data": {
      "text/html": [
       "<div>\n",
       "<style>\n",
       "    .dataframe thead tr:only-child th {\n",
       "        text-align: right;\n",
       "    }\n",
       "\n",
       "    .dataframe thead th {\n",
       "        text-align: left;\n",
       "    }\n",
       "\n",
       "    .dataframe tbody tr th {\n",
       "        vertical-align: top;\n",
       "    }\n",
       "</style>\n",
       "<table border=\"1\" class=\"dataframe\">\n",
       "  <thead>\n",
       "    <tr style=\"text-align: right;\">\n",
       "      <th></th>\n",
       "      <th>ID</th>\n",
       "      <th>Start Date</th>\n",
       "      <th>End Date</th>\n",
       "      <th>Category</th>\n",
       "      <th>Currency</th>\n",
       "      <th>Goal</th>\n",
       "      <th>Status</th>\n",
       "    </tr>\n",
       "  </thead>\n",
       "  <tbody>\n",
       "    <tr>\n",
       "      <th>0</th>\n",
       "      <td>1</td>\n",
       "      <td>3/6/2014</td>\n",
       "      <td>4/8/2014</td>\n",
       "      <td>Arts &amp; Creative</td>\n",
       "      <td>USD</td>\n",
       "      <td>10000</td>\n",
       "      <td>Failed</td>\n",
       "    </tr>\n",
       "    <tr>\n",
       "      <th>1</th>\n",
       "      <td>2</td>\n",
       "      <td>3/11/2014</td>\n",
       "      <td>4/20/2014</td>\n",
       "      <td>Arts &amp; Creative</td>\n",
       "      <td>USD</td>\n",
       "      <td>20000</td>\n",
       "      <td>Failed</td>\n",
       "    </tr>\n",
       "    <tr>\n",
       "      <th>2</th>\n",
       "      <td>3</td>\n",
       "      <td>4/2/2014</td>\n",
       "      <td>4/23/2014</td>\n",
       "      <td>Film &amp; Video</td>\n",
       "      <td>USD</td>\n",
       "      <td>2700</td>\n",
       "      <td>Failed</td>\n",
       "    </tr>\n",
       "    <tr>\n",
       "      <th>3</th>\n",
       "      <td>4</td>\n",
       "      <td>23-Sep-17</td>\n",
       "      <td>NaN</td>\n",
       "      <td>Health, Illness or Medical</td>\n",
       "      <td>U.S. Dollar</td>\n",
       "      <td>36900</td>\n",
       "      <td>Failed</td>\n",
       "    </tr>\n",
       "    <tr>\n",
       "      <th>4</th>\n",
       "      <td>5</td>\n",
       "      <td>1/13/2014</td>\n",
       "      <td>1/30/2014</td>\n",
       "      <td>Music</td>\n",
       "      <td>USD</td>\n",
       "      <td>1200</td>\n",
       "      <td>Failed</td>\n",
       "    </tr>\n",
       "  </tbody>\n",
       "</table>\n",
       "</div>"
      ],
      "text/plain": [
       "   ID Start Date   End Date                    Category     Currency   Goal  \\\n",
       "0   1   3/6/2014   4/8/2014             Arts & Creative          USD  10000   \n",
       "1   2  3/11/2014  4/20/2014             Arts & Creative          USD  20000   \n",
       "2   3   4/2/2014  4/23/2014                Film & Video          USD   2700   \n",
       "3   4  23-Sep-17        NaN  Health, Illness or Medical  U.S. Dollar  36900   \n",
       "4   5  1/13/2014  1/30/2014                       Music          USD   1200   \n",
       "\n",
       "   Status  \n",
       "0  Failed  \n",
       "1  Failed  \n",
       "2  Failed  \n",
       "3  Failed  \n",
       "4  Failed  "
      ]
     },
     "execution_count": 5,
     "metadata": {},
     "output_type": "execute_result"
    }
   ],
   "source": [
    "train.head()"
   ]
  },
  {
   "cell_type": "code",
   "execution_count": 6,
   "metadata": {},
   "outputs": [
    {
     "data": {
      "text/html": [
       "<div>\n",
       "<style>\n",
       "    .dataframe thead tr:only-child th {\n",
       "        text-align: right;\n",
       "    }\n",
       "\n",
       "    .dataframe thead th {\n",
       "        text-align: left;\n",
       "    }\n",
       "\n",
       "    .dataframe tbody tr th {\n",
       "        vertical-align: top;\n",
       "    }\n",
       "</style>\n",
       "<table border=\"1\" class=\"dataframe\">\n",
       "  <thead>\n",
       "    <tr style=\"text-align: right;\">\n",
       "      <th></th>\n",
       "      <th>ID</th>\n",
       "      <th>Start Date</th>\n",
       "      <th>End Date</th>\n",
       "      <th>Category</th>\n",
       "      <th>Currency</th>\n",
       "      <th>Goal</th>\n",
       "    </tr>\n",
       "  </thead>\n",
       "  <tbody>\n",
       "    <tr>\n",
       "      <th>0</th>\n",
       "      <td>12121</td>\n",
       "      <td>4/18/2014</td>\n",
       "      <td>5/18/2014</td>\n",
       "      <td>Games</td>\n",
       "      <td>USD</td>\n",
       "      <td>10000</td>\n",
       "    </tr>\n",
       "    <tr>\n",
       "      <th>1</th>\n",
       "      <td>12122</td>\n",
       "      <td>3/5/2014</td>\n",
       "      <td>4/4/2014</td>\n",
       "      <td>Arts &amp; Creative</td>\n",
       "      <td>USD</td>\n",
       "      <td>7500</td>\n",
       "    </tr>\n",
       "    <tr>\n",
       "      <th>2</th>\n",
       "      <td>12123</td>\n",
       "      <td>2/4/2014</td>\n",
       "      <td>3/6/2014</td>\n",
       "      <td>Film &amp; Video</td>\n",
       "      <td>USD</td>\n",
       "      <td>500</td>\n",
       "    </tr>\n",
       "    <tr>\n",
       "      <th>3</th>\n",
       "      <td>12124</td>\n",
       "      <td>3/25/2014</td>\n",
       "      <td>4/24/2014</td>\n",
       "      <td>Games</td>\n",
       "      <td>USD</td>\n",
       "      <td>29550</td>\n",
       "    </tr>\n",
       "    <tr>\n",
       "      <th>4</th>\n",
       "      <td>12125</td>\n",
       "      <td>14-Sep-15</td>\n",
       "      <td>NaN</td>\n",
       "      <td>Politics</td>\n",
       "      <td>Canadian Dollar</td>\n",
       "      <td>2500</td>\n",
       "    </tr>\n",
       "  </tbody>\n",
       "</table>\n",
       "</div>"
      ],
      "text/plain": [
       "      ID Start Date   End Date         Category         Currency   Goal\n",
       "0  12121  4/18/2014  5/18/2014            Games              USD  10000\n",
       "1  12122   3/5/2014   4/4/2014  Arts & Creative              USD   7500\n",
       "2  12123   2/4/2014   3/6/2014     Film & Video              USD    500\n",
       "3  12124  3/25/2014  4/24/2014            Games              USD  29550\n",
       "4  12125  14-Sep-15        NaN         Politics  Canadian Dollar   2500"
      ]
     },
     "execution_count": 6,
     "metadata": {},
     "output_type": "execute_result"
    }
   ],
   "source": [
    "test.head()"
   ]
  },
  {
   "cell_type": "code",
   "execution_count": 7,
   "metadata": {},
   "outputs": [
    {
     "data": {
      "text/plain": [
       "(12120, 7)"
      ]
     },
     "execution_count": 7,
     "metadata": {},
     "output_type": "execute_result"
    }
   ],
   "source": [
    "train.shape"
   ]
  },
  {
   "cell_type": "code",
   "execution_count": 8,
   "metadata": {},
   "outputs": [
    {
     "data": {
      "text/plain": [
       "(8080, 6)"
      ]
     },
     "execution_count": 8,
     "metadata": {},
     "output_type": "execute_result"
    }
   ],
   "source": [
    "test.shape"
   ]
  },
  {
   "cell_type": "code",
   "execution_count": 9,
   "metadata": {},
   "outputs": [
    {
     "data": {
      "text/plain": [
       "ID               0\n",
       "Start Date       0\n",
       "End Date      2646\n",
       "Category         0\n",
       "Currency         0\n",
       "Goal             0\n",
       "Status           0\n",
       "dtype: int64"
      ]
     },
     "execution_count": 9,
     "metadata": {},
     "output_type": "execute_result"
    }
   ],
   "source": [
    "train.isnull().sum()"
   ]
  },
  {
   "cell_type": "code",
   "execution_count": 10,
   "metadata": {},
   "outputs": [
    {
     "data": {
      "text/plain": [
       "ID               0\n",
       "Start Date       0\n",
       "End Date      1816\n",
       "Category         0\n",
       "Currency         0\n",
       "Goal             0\n",
       "dtype: int64"
      ]
     },
     "execution_count": 10,
     "metadata": {},
     "output_type": "execute_result"
    }
   ],
   "source": [
    "test.isnull().sum()"
   ]
  },
  {
   "cell_type": "code",
   "execution_count": 11,
   "metadata": {},
   "outputs": [
    {
     "data": {
      "text/plain": [
       "array(['Arts & Creative', 'Film & Video', 'Health, Illness or Medical',\n",
       "       'Music', 'Veterans & Heroes', 'Games', 'Celebrations and Weddings',\n",
       "       'Food', 'Design', 'Fashion', 'Memorials & Funerals', 'Technology',\n",
       "       'Publishing', 'Theater', 'Politics', 'Education & Schools',\n",
       "       'Photography', 'Business', 'Animals & Humane',\n",
       "       'Accidents & Disasters', 'Crafts', 'Dance', 'Travel',\n",
       "       'Community & Volunteer', 'Legal', 'Sports & Competitions',\n",
       "       'Non-profits & Charity', 'Faith & Religion', 'Family & Kids',\n",
       "       'Journalism', 'Alumni & Clubs'], dtype=object)"
      ]
     },
     "execution_count": 11,
     "metadata": {},
     "output_type": "execute_result"
    }
   ],
   "source": [
    "train[\"Category\"].unique()"
   ]
  },
  {
   "cell_type": "code",
   "execution_count": 12,
   "metadata": {},
   "outputs": [
    {
     "data": {
      "text/plain": [
       "array(['USD', 'U.S. Dollar', 'GBP', 'CAD', 'AUD', 'Canadian Dollar',\n",
       "       'Euro', 'NZD', 'Australian Dollar', 'Israeli New Sheqel',\n",
       "       'Pound Sterling', 'EUR', 'Philippine Peso', 'Swedish Krona',\n",
       "       'Norwegian Krone', 'Hong Kong Dollar', 'Russian Ruble', 'Thai Baht',\n",
       "       'Danish Krone', 'New Zealand Dollar', 'Japanese Yen', 'Swiss Franc',\n",
       "       'Singapore Dollar', 'Polish Zlotych'], dtype=object)"
      ]
     },
     "execution_count": 12,
     "metadata": {},
     "output_type": "execute_result"
    }
   ],
   "source": [
    "train[\"Currency\"].unique()"
   ]
  },
  {
   "cell_type": "code",
   "execution_count": 13,
   "metadata": {},
   "outputs": [
    {
     "data": {
      "text/plain": [
       "ID            6981\n",
       "Start Date    6981\n",
       "End Date      4822\n",
       "Category      6981\n",
       "Currency      6981\n",
       "Goal          6981\n",
       "Status        6981\n",
       "dtype: int64"
      ]
     },
     "execution_count": 13,
     "metadata": {},
     "output_type": "execute_result"
    }
   ],
   "source": [
    "train[train[\"Status\"]==\"Failed\"].count()\n"
   ]
  },
  {
   "cell_type": "code",
   "execution_count": 14,
   "metadata": {},
   "outputs": [
    {
     "data": {
      "text/plain": [
       "ID            5139\n",
       "Start Date    5139\n",
       "End Date      4652\n",
       "Category      5139\n",
       "Currency      5139\n",
       "Goal          5139\n",
       "Status        5139\n",
       "dtype: int64"
      ]
     },
     "execution_count": 14,
     "metadata": {},
     "output_type": "execute_result"
    }
   ],
   "source": [
    "train[\"Status\"].unique()\n",
    "train[train[\"Status\"]==\"Success\"].count()"
   ]
  },
  {
   "cell_type": "code",
   "execution_count": 15,
   "metadata": {},
   "outputs": [
    {
     "data": {
      "text/plain": [
       "ID             int64\n",
       "Start Date    object\n",
       "End Date      object\n",
       "Category      object\n",
       "Currency      object\n",
       "Goal           int64\n",
       "Status        object\n",
       "dtype: object"
      ]
     },
     "execution_count": 15,
     "metadata": {},
     "output_type": "execute_result"
    }
   ],
   "source": [
    "train.dtypes"
   ]
  },
  {
   "cell_type": "code",
   "execution_count": 16,
   "metadata": {
    "collapsed": true
   },
   "outputs": [],
   "source": [
    "train['source']='train'\n",
    "test['source']='test'\n",
    "data = pd.concat([train, test],ignore_index=True)"
   ]
  },
  {
   "cell_type": "code",
   "execution_count": 17,
   "metadata": {
    "collapsed": true
   },
   "outputs": [],
   "source": [
    "train_test = [data]"
   ]
  },
  {
   "cell_type": "code",
   "execution_count": 18,
   "metadata": {},
   "outputs": [
    {
     "data": {
      "text/html": [
       "<div>\n",
       "<style>\n",
       "    .dataframe thead tr:only-child th {\n",
       "        text-align: right;\n",
       "    }\n",
       "\n",
       "    .dataframe thead th {\n",
       "        text-align: left;\n",
       "    }\n",
       "\n",
       "    .dataframe tbody tr th {\n",
       "        vertical-align: top;\n",
       "    }\n",
       "</style>\n",
       "<table border=\"1\" class=\"dataframe\">\n",
       "  <thead>\n",
       "    <tr style=\"text-align: right;\">\n",
       "      <th></th>\n",
       "      <th>Category</th>\n",
       "      <th>Currency</th>\n",
       "      <th>End Date</th>\n",
       "      <th>Goal</th>\n",
       "      <th>ID</th>\n",
       "      <th>Start Date</th>\n",
       "      <th>Status</th>\n",
       "      <th>source</th>\n",
       "    </tr>\n",
       "  </thead>\n",
       "  <tbody>\n",
       "    <tr>\n",
       "      <th>0</th>\n",
       "      <td>Arts &amp; Creative</td>\n",
       "      <td>USD</td>\n",
       "      <td>4/8/2014</td>\n",
       "      <td>10000</td>\n",
       "      <td>1</td>\n",
       "      <td>3/6/2014</td>\n",
       "      <td>Failed</td>\n",
       "      <td>train</td>\n",
       "    </tr>\n",
       "    <tr>\n",
       "      <th>1</th>\n",
       "      <td>Arts &amp; Creative</td>\n",
       "      <td>USD</td>\n",
       "      <td>4/20/2014</td>\n",
       "      <td>20000</td>\n",
       "      <td>2</td>\n",
       "      <td>3/11/2014</td>\n",
       "      <td>Failed</td>\n",
       "      <td>train</td>\n",
       "    </tr>\n",
       "    <tr>\n",
       "      <th>2</th>\n",
       "      <td>Film &amp; Video</td>\n",
       "      <td>USD</td>\n",
       "      <td>4/23/2014</td>\n",
       "      <td>2700</td>\n",
       "      <td>3</td>\n",
       "      <td>4/2/2014</td>\n",
       "      <td>Failed</td>\n",
       "      <td>train</td>\n",
       "    </tr>\n",
       "    <tr>\n",
       "      <th>3</th>\n",
       "      <td>Health, Illness or Medical</td>\n",
       "      <td>U.S. Dollar</td>\n",
       "      <td>NaN</td>\n",
       "      <td>36900</td>\n",
       "      <td>4</td>\n",
       "      <td>23-Sep-17</td>\n",
       "      <td>Failed</td>\n",
       "      <td>train</td>\n",
       "    </tr>\n",
       "    <tr>\n",
       "      <th>4</th>\n",
       "      <td>Music</td>\n",
       "      <td>USD</td>\n",
       "      <td>1/30/2014</td>\n",
       "      <td>1200</td>\n",
       "      <td>5</td>\n",
       "      <td>1/13/2014</td>\n",
       "      <td>Failed</td>\n",
       "      <td>train</td>\n",
       "    </tr>\n",
       "  </tbody>\n",
       "</table>\n",
       "</div>"
      ],
      "text/plain": [
       "                     Category     Currency   End Date   Goal  ID Start Date  \\\n",
       "0             Arts & Creative          USD   4/8/2014  10000   1   3/6/2014   \n",
       "1             Arts & Creative          USD  4/20/2014  20000   2  3/11/2014   \n",
       "2                Film & Video          USD  4/23/2014   2700   3   4/2/2014   \n",
       "3  Health, Illness or Medical  U.S. Dollar        NaN  36900   4  23-Sep-17   \n",
       "4                       Music          USD  1/30/2014   1200   5  1/13/2014   \n",
       "\n",
       "   Status source  \n",
       "0  Failed  train  \n",
       "1  Failed  train  \n",
       "2  Failed  train  \n",
       "3  Failed  train  \n",
       "4  Failed  train  "
      ]
     },
     "execution_count": 18,
     "metadata": {},
     "output_type": "execute_result"
    }
   ],
   "source": [
    "data.head()"
   ]
  },
  {
   "cell_type": "code",
   "execution_count": 19,
   "metadata": {
    "collapsed": true
   },
   "outputs": [],
   "source": [
    "for dataset in train_test:\n",
    "    dataset.loc[(dataset['Currency']=='USD')|(dataset['Currency']=='U.S. Dollar'),'Goal'] *= 72.48\n",
    "    dataset.loc[(dataset['Currency']=='GBP')|(dataset['Currency']=='Pound Sterling'),'Goal'] *= 95.70\n",
    "    dataset.loc[(dataset['Currency']=='CAD')|(dataset['Currency']=='Canadian Dollar'),'Goal'] *= 56.10\n",
    "    dataset.loc[(dataset['Currency']=='AUD')|(dataset['Currency']=='Australian Dollar'),'Goal'] *= 52.66\n",
    "    dataset.loc[(dataset['Currency']=='EUR')|(dataset['Currency']=='Euro'),'Goal'] *= 84.90\n",
    "    dataset.loc[(dataset['Currency']=='NZD')|(dataset['Currency']=='New Zealand Dollar'),'Goal'] *= 47.92\n",
    "    dataset.loc[(dataset['Currency']=='Israeli New Sheqel'),'Goal'] *= 20.28\n",
    "    dataset.loc[(dataset['Currency']=='Philippine Peso'),'Goal'] *= 1.34\n",
    "    dataset.loc[(dataset['Currency']=='Swedish Krona'),'Goal'] *= 8.17\n",
    "    dataset.loc[(dataset['Currency']=='Norwegian Krone'),'Goal'] *= 8.89\n",
    "    dataset.loc[(dataset['Currency']=='Hong Kong Dollar'),'Goal'] *= 9.25\n",
    "    dataset.loc[(dataset['Currency']=='Russian Ruble'),'Goal'] *= 1.08\n",
    "    dataset.loc[(dataset['Currency']=='Thai Baht'),'Goal'] *= 2.24\n",
    "    dataset.loc[(dataset['Currency']=='Danish Krone'),'Goal'] *= 11.37\n",
    "    dataset.loc[(dataset['Currency']=='Japanese Yen'),'Goal'] *= 0.64\n",
    "    dataset.loc[(dataset['Currency']=='Swiss Franc'),'Goal'] *= 74.97\n",
    "    dataset.loc[(dataset['Currency']=='Singapore Dollar'),'Goal'] *= 52.93\n",
    "    dataset.loc[(dataset['Currency']=='Polish Zlotych'),'Goal'] *= 19.74"
   ]
  },
  {
   "cell_type": "code",
   "execution_count": 20,
   "metadata": {
    "collapsed": true
   },
   "outputs": [],
   "source": [
    "data.drop('Currency',axis=1,inplace=True)"
   ]
  },
  {
   "cell_type": "code",
   "execution_count": 21,
   "metadata": {
    "collapsed": true
   },
   "outputs": [],
   "source": [
    "import datetime"
   ]
  },
  {
   "cell_type": "code",
   "execution_count": 22,
   "metadata": {
    "collapsed": true
   },
   "outputs": [],
   "source": [
    "data.loc[716,\"Start Date\"]='4/8/2014'\n",
    "data.loc[4890,\"Start Date\"]='1/31/2014'\n",
    "data.loc[14239,\"Start Date\"]='4/1/2014'\n",
    "data.loc[14490,\"Start Date\"]='5/8/2014'"
   ]
  },
  {
   "cell_type": "code",
   "execution_count": 23,
   "metadata": {
    "collapsed": true
   },
   "outputs": [],
   "source": [
    "for index,row in numbers.iterrows():\n",
    "    temp = data.loc[row['no']-1,'Start Date']\n",
    "    data.loc[row['no']-1,'Start Date'] = data.loc[row['no']-1,'End Date']\n",
    "    data.loc[row['no']-1,'End Date'] = temp"
   ]
  },
  {
   "cell_type": "code",
   "execution_count": 24,
   "metadata": {
    "collapsed": true
   },
   "outputs": [],
   "source": [
    "data[\"Start Date\"]=pd.to_datetime(data[\"Start Date\"],errors='coerce')\n",
    "data[\"End Date\"]=pd.to_datetime(data[\"End Date\"],errors='coerce')"
   ]
  },
  {
   "cell_type": "code",
   "execution_count": 25,
   "metadata": {
    "collapsed": true
   },
   "outputs": [],
   "source": [
    "for index,row in data.iterrows():\n",
    "    data.loc[index,'start_month'] = row['Start Date'].month"
   ]
  },
  {
   "cell_type": "code",
   "execution_count": 26,
   "metadata": {
    "collapsed": true
   },
   "outputs": [],
   "source": [
    "data[\"days\"]=(data[\"End Date\"]-data[\"Start Date\"]).astype(datetime.timedelta).map(lambda x:x.days)"
   ]
  },
  {
   "cell_type": "code",
   "execution_count": 27,
   "metadata": {},
   "outputs": [
    {
     "data": {
      "text/html": [
       "<div>\n",
       "<style>\n",
       "    .dataframe thead tr:only-child th {\n",
       "        text-align: right;\n",
       "    }\n",
       "\n",
       "    .dataframe thead th {\n",
       "        text-align: left;\n",
       "    }\n",
       "\n",
       "    .dataframe tbody tr th {\n",
       "        vertical-align: top;\n",
       "    }\n",
       "</style>\n",
       "<table border=\"1\" class=\"dataframe\">\n",
       "  <thead>\n",
       "    <tr style=\"text-align: right;\">\n",
       "      <th></th>\n",
       "      <th>Category</th>\n",
       "      <th>End Date</th>\n",
       "      <th>Goal</th>\n",
       "      <th>ID</th>\n",
       "      <th>Start Date</th>\n",
       "      <th>Status</th>\n",
       "      <th>source</th>\n",
       "      <th>start_month</th>\n",
       "      <th>days</th>\n",
       "    </tr>\n",
       "  </thead>\n",
       "  <tbody>\n",
       "    <tr>\n",
       "      <th>0</th>\n",
       "      <td>Arts &amp; Creative</td>\n",
       "      <td>2014-04-08</td>\n",
       "      <td>724800.0</td>\n",
       "      <td>1</td>\n",
       "      <td>2014-03-06</td>\n",
       "      <td>Failed</td>\n",
       "      <td>train</td>\n",
       "      <td>3.0</td>\n",
       "      <td>33.0</td>\n",
       "    </tr>\n",
       "    <tr>\n",
       "      <th>1</th>\n",
       "      <td>Arts &amp; Creative</td>\n",
       "      <td>2014-04-20</td>\n",
       "      <td>1449600.0</td>\n",
       "      <td>2</td>\n",
       "      <td>2014-03-11</td>\n",
       "      <td>Failed</td>\n",
       "      <td>train</td>\n",
       "      <td>3.0</td>\n",
       "      <td>40.0</td>\n",
       "    </tr>\n",
       "    <tr>\n",
       "      <th>2</th>\n",
       "      <td>Film &amp; Video</td>\n",
       "      <td>2014-04-23</td>\n",
       "      <td>195696.0</td>\n",
       "      <td>3</td>\n",
       "      <td>2014-04-02</td>\n",
       "      <td>Failed</td>\n",
       "      <td>train</td>\n",
       "      <td>4.0</td>\n",
       "      <td>21.0</td>\n",
       "    </tr>\n",
       "    <tr>\n",
       "      <th>3</th>\n",
       "      <td>Health, Illness or Medical</td>\n",
       "      <td>NaT</td>\n",
       "      <td>2674512.0</td>\n",
       "      <td>4</td>\n",
       "      <td>2017-09-23</td>\n",
       "      <td>Failed</td>\n",
       "      <td>train</td>\n",
       "      <td>9.0</td>\n",
       "      <td>NaN</td>\n",
       "    </tr>\n",
       "    <tr>\n",
       "      <th>4</th>\n",
       "      <td>Music</td>\n",
       "      <td>2014-01-30</td>\n",
       "      <td>86976.0</td>\n",
       "      <td>5</td>\n",
       "      <td>2014-01-13</td>\n",
       "      <td>Failed</td>\n",
       "      <td>train</td>\n",
       "      <td>1.0</td>\n",
       "      <td>17.0</td>\n",
       "    </tr>\n",
       "  </tbody>\n",
       "</table>\n",
       "</div>"
      ],
      "text/plain": [
       "                     Category   End Date       Goal  ID Start Date  Status  \\\n",
       "0             Arts & Creative 2014-04-08   724800.0   1 2014-03-06  Failed   \n",
       "1             Arts & Creative 2014-04-20  1449600.0   2 2014-03-11  Failed   \n",
       "2                Film & Video 2014-04-23   195696.0   3 2014-04-02  Failed   \n",
       "3  Health, Illness or Medical        NaT  2674512.0   4 2017-09-23  Failed   \n",
       "4                       Music 2014-01-30    86976.0   5 2014-01-13  Failed   \n",
       "\n",
       "  source  start_month  days  \n",
       "0  train          3.0  33.0  \n",
       "1  train          3.0  40.0  \n",
       "2  train          4.0  21.0  \n",
       "3  train          9.0   NaN  \n",
       "4  train          1.0  17.0  "
      ]
     },
     "execution_count": 27,
     "metadata": {},
     "output_type": "execute_result"
    }
   ],
   "source": [
    "data.head()"
   ]
  },
  {
   "cell_type": "code",
   "execution_count": 28,
   "metadata": {},
   "outputs": [
    {
     "data": {
      "text/plain": [
       "Category               object\n",
       "End Date       datetime64[ns]\n",
       "Goal                  float64\n",
       "ID                      int64\n",
       "Start Date     datetime64[ns]\n",
       "Status                 object\n",
       "source                 object\n",
       "start_month           float64\n",
       "days                  float64\n",
       "dtype: object"
      ]
     },
     "execution_count": 28,
     "metadata": {},
     "output_type": "execute_result"
    }
   ],
   "source": [
    "data.dtypes"
   ]
  },
  {
   "cell_type": "code",
   "execution_count": 29,
   "metadata": {
    "collapsed": true
   },
   "outputs": [],
   "source": [
    "data.drop([\"Start Date\",\"End Date\"],axis=1,inplace=True)"
   ]
  },
  {
   "cell_type": "code",
   "execution_count": 30,
   "metadata": {},
   "outputs": [
    {
     "data": {
      "text/html": [
       "<div>\n",
       "<style>\n",
       "    .dataframe thead tr:only-child th {\n",
       "        text-align: right;\n",
       "    }\n",
       "\n",
       "    .dataframe thead th {\n",
       "        text-align: left;\n",
       "    }\n",
       "\n",
       "    .dataframe tbody tr th {\n",
       "        vertical-align: top;\n",
       "    }\n",
       "</style>\n",
       "<table border=\"1\" class=\"dataframe\">\n",
       "  <thead>\n",
       "    <tr style=\"text-align: right;\">\n",
       "      <th></th>\n",
       "      <th>Category</th>\n",
       "      <th>Goal</th>\n",
       "      <th>ID</th>\n",
       "      <th>Status</th>\n",
       "      <th>source</th>\n",
       "      <th>start_month</th>\n",
       "      <th>days</th>\n",
       "    </tr>\n",
       "  </thead>\n",
       "  <tbody>\n",
       "    <tr>\n",
       "      <th>0</th>\n",
       "      <td>Arts &amp; Creative</td>\n",
       "      <td>724800.0</td>\n",
       "      <td>1</td>\n",
       "      <td>Failed</td>\n",
       "      <td>train</td>\n",
       "      <td>3.0</td>\n",
       "      <td>33.0</td>\n",
       "    </tr>\n",
       "    <tr>\n",
       "      <th>1</th>\n",
       "      <td>Arts &amp; Creative</td>\n",
       "      <td>1449600.0</td>\n",
       "      <td>2</td>\n",
       "      <td>Failed</td>\n",
       "      <td>train</td>\n",
       "      <td>3.0</td>\n",
       "      <td>40.0</td>\n",
       "    </tr>\n",
       "    <tr>\n",
       "      <th>2</th>\n",
       "      <td>Film &amp; Video</td>\n",
       "      <td>195696.0</td>\n",
       "      <td>3</td>\n",
       "      <td>Failed</td>\n",
       "      <td>train</td>\n",
       "      <td>4.0</td>\n",
       "      <td>21.0</td>\n",
       "    </tr>\n",
       "    <tr>\n",
       "      <th>3</th>\n",
       "      <td>Health, Illness or Medical</td>\n",
       "      <td>2674512.0</td>\n",
       "      <td>4</td>\n",
       "      <td>Failed</td>\n",
       "      <td>train</td>\n",
       "      <td>9.0</td>\n",
       "      <td>NaN</td>\n",
       "    </tr>\n",
       "    <tr>\n",
       "      <th>4</th>\n",
       "      <td>Music</td>\n",
       "      <td>86976.0</td>\n",
       "      <td>5</td>\n",
       "      <td>Failed</td>\n",
       "      <td>train</td>\n",
       "      <td>1.0</td>\n",
       "      <td>17.0</td>\n",
       "    </tr>\n",
       "  </tbody>\n",
       "</table>\n",
       "</div>"
      ],
      "text/plain": [
       "                     Category       Goal  ID  Status source  start_month  days\n",
       "0             Arts & Creative   724800.0   1  Failed  train          3.0  33.0\n",
       "1             Arts & Creative  1449600.0   2  Failed  train          3.0  40.0\n",
       "2                Film & Video   195696.0   3  Failed  train          4.0  21.0\n",
       "3  Health, Illness or Medical  2674512.0   4  Failed  train          9.0   NaN\n",
       "4                       Music    86976.0   5  Failed  train          1.0  17.0"
      ]
     },
     "execution_count": 30,
     "metadata": {},
     "output_type": "execute_result"
    }
   ],
   "source": [
    "data.head()"
   ]
  },
  {
   "cell_type": "code",
   "execution_count": 31,
   "metadata": {
    "collapsed": true
   },
   "outputs": [],
   "source": [
    "from scipy import stats\n",
    "data[\"days\"]=data[\"days\"].fillna(data.groupby(\"Category\")[\"days\"].transform(\"median\"))\n",
    "data[\"days\"]=data[\"days\"].fillna(data[\"days\"].median())"
   ]
  },
  {
   "cell_type": "code",
   "execution_count": 32,
   "metadata": {},
   "outputs": [
    {
     "data": {
      "text/plain": [
       "Category          0\n",
       "Goal              0\n",
       "ID                0\n",
       "Status         8080\n",
       "source            0\n",
       "start_month       0\n",
       "days              0\n",
       "dtype: int64"
      ]
     },
     "execution_count": 32,
     "metadata": {},
     "output_type": "execute_result"
    }
   ],
   "source": [
    "data.isnull().sum()"
   ]
  },
  {
   "cell_type": "code",
   "execution_count": 33,
   "metadata": {},
   "outputs": [
    {
     "data": {
      "text/plain": [
       "Category        object\n",
       "Goal           float64\n",
       "ID               int64\n",
       "Status          object\n",
       "source          object\n",
       "start_month    float64\n",
       "days           float64\n",
       "dtype: object"
      ]
     },
     "execution_count": 33,
     "metadata": {},
     "output_type": "execute_result"
    }
   ],
   "source": [
    "data.dtypes"
   ]
  },
  {
   "cell_type": "code",
   "execution_count": 34,
   "metadata": {
    "collapsed": true
   },
   "outputs": [],
   "source": [
    "#sns.swarmplot(x=data[\"days\"],y=data[\"Goal\"])\n",
    "from sklearn.preprocessing import LabelEncoder"
   ]
  },
  {
   "cell_type": "code",
   "execution_count": 35,
   "metadata": {
    "collapsed": true
   },
   "outputs": [],
   "source": [
    "data[\"days\"]=data[\"days\"].astype('int64')\n",
    "data[\"Goal\"]=data[\"Goal\"].astype('int64')"
   ]
  },
  {
   "cell_type": "code",
   "execution_count": 36,
   "metadata": {
    "collapsed": true
   },
   "outputs": [],
   "source": [
    "var_mod = ['Category','start_month']\n",
    "le=LabelEncoder()\n",
    "for i in var_mod:\n",
    "    data[i] = le.fit_transform(data[i])"
   ]
  },
  {
   "cell_type": "code",
   "execution_count": 37,
   "metadata": {
    "collapsed": true
   },
   "outputs": [],
   "source": [
    "data=pd.get_dummies(data,columns=['Category','start_month'])"
   ]
  },
  {
   "cell_type": "code",
   "execution_count": 38,
   "metadata": {},
   "outputs": [
    {
     "data": {
      "text/html": [
       "<div>\n",
       "<style>\n",
       "    .dataframe thead tr:only-child th {\n",
       "        text-align: right;\n",
       "    }\n",
       "\n",
       "    .dataframe thead th {\n",
       "        text-align: left;\n",
       "    }\n",
       "\n",
       "    .dataframe tbody tr th {\n",
       "        vertical-align: top;\n",
       "    }\n",
       "</style>\n",
       "<table border=\"1\" class=\"dataframe\">\n",
       "  <thead>\n",
       "    <tr style=\"text-align: right;\">\n",
       "      <th></th>\n",
       "      <th>Goal</th>\n",
       "      <th>ID</th>\n",
       "      <th>Status</th>\n",
       "      <th>source</th>\n",
       "      <th>days</th>\n",
       "      <th>Category_0</th>\n",
       "      <th>Category_1</th>\n",
       "      <th>Category_2</th>\n",
       "      <th>Category_3</th>\n",
       "      <th>Category_4</th>\n",
       "      <th>...</th>\n",
       "      <th>start_month_2</th>\n",
       "      <th>start_month_3</th>\n",
       "      <th>start_month_4</th>\n",
       "      <th>start_month_5</th>\n",
       "      <th>start_month_6</th>\n",
       "      <th>start_month_7</th>\n",
       "      <th>start_month_8</th>\n",
       "      <th>start_month_9</th>\n",
       "      <th>start_month_10</th>\n",
       "      <th>start_month_11</th>\n",
       "    </tr>\n",
       "  </thead>\n",
       "  <tbody>\n",
       "    <tr>\n",
       "      <th>0</th>\n",
       "      <td>724800</td>\n",
       "      <td>1</td>\n",
       "      <td>Failed</td>\n",
       "      <td>train</td>\n",
       "      <td>33</td>\n",
       "      <td>0</td>\n",
       "      <td>0</td>\n",
       "      <td>0</td>\n",
       "      <td>1</td>\n",
       "      <td>0</td>\n",
       "      <td>...</td>\n",
       "      <td>1</td>\n",
       "      <td>0</td>\n",
       "      <td>0</td>\n",
       "      <td>0</td>\n",
       "      <td>0</td>\n",
       "      <td>0</td>\n",
       "      <td>0</td>\n",
       "      <td>0</td>\n",
       "      <td>0</td>\n",
       "      <td>0</td>\n",
       "    </tr>\n",
       "    <tr>\n",
       "      <th>1</th>\n",
       "      <td>1449600</td>\n",
       "      <td>2</td>\n",
       "      <td>Failed</td>\n",
       "      <td>train</td>\n",
       "      <td>40</td>\n",
       "      <td>0</td>\n",
       "      <td>0</td>\n",
       "      <td>0</td>\n",
       "      <td>1</td>\n",
       "      <td>0</td>\n",
       "      <td>...</td>\n",
       "      <td>1</td>\n",
       "      <td>0</td>\n",
       "      <td>0</td>\n",
       "      <td>0</td>\n",
       "      <td>0</td>\n",
       "      <td>0</td>\n",
       "      <td>0</td>\n",
       "      <td>0</td>\n",
       "      <td>0</td>\n",
       "      <td>0</td>\n",
       "    </tr>\n",
       "    <tr>\n",
       "      <th>2</th>\n",
       "      <td>195696</td>\n",
       "      <td>3</td>\n",
       "      <td>Failed</td>\n",
       "      <td>train</td>\n",
       "      <td>21</td>\n",
       "      <td>0</td>\n",
       "      <td>0</td>\n",
       "      <td>0</td>\n",
       "      <td>0</td>\n",
       "      <td>0</td>\n",
       "      <td>...</td>\n",
       "      <td>0</td>\n",
       "      <td>1</td>\n",
       "      <td>0</td>\n",
       "      <td>0</td>\n",
       "      <td>0</td>\n",
       "      <td>0</td>\n",
       "      <td>0</td>\n",
       "      <td>0</td>\n",
       "      <td>0</td>\n",
       "      <td>0</td>\n",
       "    </tr>\n",
       "    <tr>\n",
       "      <th>3</th>\n",
       "      <td>2674512</td>\n",
       "      <td>4</td>\n",
       "      <td>Failed</td>\n",
       "      <td>train</td>\n",
       "      <td>90</td>\n",
       "      <td>0</td>\n",
       "      <td>0</td>\n",
       "      <td>0</td>\n",
       "      <td>0</td>\n",
       "      <td>0</td>\n",
       "      <td>...</td>\n",
       "      <td>0</td>\n",
       "      <td>0</td>\n",
       "      <td>0</td>\n",
       "      <td>0</td>\n",
       "      <td>0</td>\n",
       "      <td>0</td>\n",
       "      <td>1</td>\n",
       "      <td>0</td>\n",
       "      <td>0</td>\n",
       "      <td>0</td>\n",
       "    </tr>\n",
       "    <tr>\n",
       "      <th>4</th>\n",
       "      <td>86976</td>\n",
       "      <td>5</td>\n",
       "      <td>Failed</td>\n",
       "      <td>train</td>\n",
       "      <td>17</td>\n",
       "      <td>0</td>\n",
       "      <td>0</td>\n",
       "      <td>0</td>\n",
       "      <td>0</td>\n",
       "      <td>0</td>\n",
       "      <td>...</td>\n",
       "      <td>0</td>\n",
       "      <td>0</td>\n",
       "      <td>0</td>\n",
       "      <td>0</td>\n",
       "      <td>0</td>\n",
       "      <td>0</td>\n",
       "      <td>0</td>\n",
       "      <td>0</td>\n",
       "      <td>0</td>\n",
       "      <td>0</td>\n",
       "    </tr>\n",
       "  </tbody>\n",
       "</table>\n",
       "<p>5 rows × 48 columns</p>\n",
       "</div>"
      ],
      "text/plain": [
       "      Goal  ID  Status source  days  Category_0  Category_1  Category_2  \\\n",
       "0   724800   1  Failed  train    33           0           0           0   \n",
       "1  1449600   2  Failed  train    40           0           0           0   \n",
       "2   195696   3  Failed  train    21           0           0           0   \n",
       "3  2674512   4  Failed  train    90           0           0           0   \n",
       "4    86976   5  Failed  train    17           0           0           0   \n",
       "\n",
       "   Category_3  Category_4       ...        start_month_2  start_month_3  \\\n",
       "0           1           0       ...                    1              0   \n",
       "1           1           0       ...                    1              0   \n",
       "2           0           0       ...                    0              1   \n",
       "3           0           0       ...                    0              0   \n",
       "4           0           0       ...                    0              0   \n",
       "\n",
       "   start_month_4  start_month_5  start_month_6  start_month_7  start_month_8  \\\n",
       "0              0              0              0              0              0   \n",
       "1              0              0              0              0              0   \n",
       "2              0              0              0              0              0   \n",
       "3              0              0              0              0              1   \n",
       "4              0              0              0              0              0   \n",
       "\n",
       "   start_month_9  start_month_10  start_month_11  \n",
       "0              0               0               0  \n",
       "1              0               0               0  \n",
       "2              0               0               0  \n",
       "3              0               0               0  \n",
       "4              0               0               0  \n",
       "\n",
       "[5 rows x 48 columns]"
      ]
     },
     "execution_count": 38,
     "metadata": {},
     "output_type": "execute_result"
    }
   ],
   "source": [
    "data.head()"
   ]
  },
  {
   "cell_type": "code",
   "execution_count": 39,
   "metadata": {
    "collapsed": true
   },
   "outputs": [],
   "source": [
    "data[\"daily goal\"]=data[\"Goal\"]/data[\"days\"]"
   ]
  },
  {
   "cell_type": "code",
   "execution_count": 40,
   "metadata": {},
   "outputs": [
    {
     "name": "stderr",
     "output_type": "stream",
     "text": [
      "/home/sirzechlucifer/anaconda3/lib/python3.6/site-packages/ipykernel_launcher.py:3: SettingWithCopyWarning: \n",
      "A value is trying to be set on a copy of a slice from a DataFrame\n",
      "\n",
      "See the caveats in the documentation: http://pandas.pydata.org/pandas-docs/stable/indexing.html#indexing-view-versus-copy\n",
      "  This is separate from the ipykernel package so we can avoid doing imports until\n",
      "/home/sirzechlucifer/anaconda3/lib/python3.6/site-packages/ipykernel_launcher.py:4: SettingWithCopyWarning: \n",
      "A value is trying to be set on a copy of a slice from a DataFrame\n",
      "\n",
      "See the caveats in the documentation: http://pandas.pydata.org/pandas-docs/stable/indexing.html#indexing-view-versus-copy\n",
      "  after removing the cwd from sys.path.\n"
     ]
    }
   ],
   "source": [
    "train = data.loc[data['source']==\"train\"]\n",
    "test = data.loc[data['source']==\"test\"]\n",
    "test.drop(['source'],axis=1,inplace=True)\n",
    "train.drop(['source'],axis=1,inplace=True)"
   ]
  },
  {
   "cell_type": "code",
   "execution_count": 41,
   "metadata": {},
   "outputs": [
    {
     "data": {
      "text/html": [
       "<div>\n",
       "<style>\n",
       "    .dataframe thead tr:only-child th {\n",
       "        text-align: right;\n",
       "    }\n",
       "\n",
       "    .dataframe thead th {\n",
       "        text-align: left;\n",
       "    }\n",
       "\n",
       "    .dataframe tbody tr th {\n",
       "        vertical-align: top;\n",
       "    }\n",
       "</style>\n",
       "<table border=\"1\" class=\"dataframe\">\n",
       "  <thead>\n",
       "    <tr style=\"text-align: right;\">\n",
       "      <th></th>\n",
       "      <th>Goal</th>\n",
       "      <th>ID</th>\n",
       "      <th>Status</th>\n",
       "      <th>days</th>\n",
       "      <th>Category_0</th>\n",
       "      <th>Category_1</th>\n",
       "      <th>Category_2</th>\n",
       "      <th>Category_3</th>\n",
       "      <th>Category_4</th>\n",
       "      <th>Category_5</th>\n",
       "      <th>...</th>\n",
       "      <th>start_month_3</th>\n",
       "      <th>start_month_4</th>\n",
       "      <th>start_month_5</th>\n",
       "      <th>start_month_6</th>\n",
       "      <th>start_month_7</th>\n",
       "      <th>start_month_8</th>\n",
       "      <th>start_month_9</th>\n",
       "      <th>start_month_10</th>\n",
       "      <th>start_month_11</th>\n",
       "      <th>daily goal</th>\n",
       "    </tr>\n",
       "  </thead>\n",
       "  <tbody>\n",
       "    <tr>\n",
       "      <th>0</th>\n",
       "      <td>724800</td>\n",
       "      <td>1</td>\n",
       "      <td>Failed</td>\n",
       "      <td>33</td>\n",
       "      <td>0</td>\n",
       "      <td>0</td>\n",
       "      <td>0</td>\n",
       "      <td>1</td>\n",
       "      <td>0</td>\n",
       "      <td>0</td>\n",
       "      <td>...</td>\n",
       "      <td>0</td>\n",
       "      <td>0</td>\n",
       "      <td>0</td>\n",
       "      <td>0</td>\n",
       "      <td>0</td>\n",
       "      <td>0</td>\n",
       "      <td>0</td>\n",
       "      <td>0</td>\n",
       "      <td>0</td>\n",
       "      <td>21963.636364</td>\n",
       "    </tr>\n",
       "    <tr>\n",
       "      <th>1</th>\n",
       "      <td>1449600</td>\n",
       "      <td>2</td>\n",
       "      <td>Failed</td>\n",
       "      <td>40</td>\n",
       "      <td>0</td>\n",
       "      <td>0</td>\n",
       "      <td>0</td>\n",
       "      <td>1</td>\n",
       "      <td>0</td>\n",
       "      <td>0</td>\n",
       "      <td>...</td>\n",
       "      <td>0</td>\n",
       "      <td>0</td>\n",
       "      <td>0</td>\n",
       "      <td>0</td>\n",
       "      <td>0</td>\n",
       "      <td>0</td>\n",
       "      <td>0</td>\n",
       "      <td>0</td>\n",
       "      <td>0</td>\n",
       "      <td>36240.000000</td>\n",
       "    </tr>\n",
       "    <tr>\n",
       "      <th>2</th>\n",
       "      <td>195696</td>\n",
       "      <td>3</td>\n",
       "      <td>Failed</td>\n",
       "      <td>21</td>\n",
       "      <td>0</td>\n",
       "      <td>0</td>\n",
       "      <td>0</td>\n",
       "      <td>0</td>\n",
       "      <td>0</td>\n",
       "      <td>0</td>\n",
       "      <td>...</td>\n",
       "      <td>1</td>\n",
       "      <td>0</td>\n",
       "      <td>0</td>\n",
       "      <td>0</td>\n",
       "      <td>0</td>\n",
       "      <td>0</td>\n",
       "      <td>0</td>\n",
       "      <td>0</td>\n",
       "      <td>0</td>\n",
       "      <td>9318.857143</td>\n",
       "    </tr>\n",
       "    <tr>\n",
       "      <th>3</th>\n",
       "      <td>2674512</td>\n",
       "      <td>4</td>\n",
       "      <td>Failed</td>\n",
       "      <td>90</td>\n",
       "      <td>0</td>\n",
       "      <td>0</td>\n",
       "      <td>0</td>\n",
       "      <td>0</td>\n",
       "      <td>0</td>\n",
       "      <td>0</td>\n",
       "      <td>...</td>\n",
       "      <td>0</td>\n",
       "      <td>0</td>\n",
       "      <td>0</td>\n",
       "      <td>0</td>\n",
       "      <td>0</td>\n",
       "      <td>1</td>\n",
       "      <td>0</td>\n",
       "      <td>0</td>\n",
       "      <td>0</td>\n",
       "      <td>29716.800000</td>\n",
       "    </tr>\n",
       "    <tr>\n",
       "      <th>4</th>\n",
       "      <td>86976</td>\n",
       "      <td>5</td>\n",
       "      <td>Failed</td>\n",
       "      <td>17</td>\n",
       "      <td>0</td>\n",
       "      <td>0</td>\n",
       "      <td>0</td>\n",
       "      <td>0</td>\n",
       "      <td>0</td>\n",
       "      <td>0</td>\n",
       "      <td>...</td>\n",
       "      <td>0</td>\n",
       "      <td>0</td>\n",
       "      <td>0</td>\n",
       "      <td>0</td>\n",
       "      <td>0</td>\n",
       "      <td>0</td>\n",
       "      <td>0</td>\n",
       "      <td>0</td>\n",
       "      <td>0</td>\n",
       "      <td>5116.235294</td>\n",
       "    </tr>\n",
       "  </tbody>\n",
       "</table>\n",
       "<p>5 rows × 48 columns</p>\n",
       "</div>"
      ],
      "text/plain": [
       "      Goal  ID  Status  days  Category_0  Category_1  Category_2  Category_3  \\\n",
       "0   724800   1  Failed    33           0           0           0           1   \n",
       "1  1449600   2  Failed    40           0           0           0           1   \n",
       "2   195696   3  Failed    21           0           0           0           0   \n",
       "3  2674512   4  Failed    90           0           0           0           0   \n",
       "4    86976   5  Failed    17           0           0           0           0   \n",
       "\n",
       "   Category_4  Category_5      ...       start_month_3  start_month_4  \\\n",
       "0           0           0      ...                   0              0   \n",
       "1           0           0      ...                   0              0   \n",
       "2           0           0      ...                   1              0   \n",
       "3           0           0      ...                   0              0   \n",
       "4           0           0      ...                   0              0   \n",
       "\n",
       "   start_month_5  start_month_6  start_month_7  start_month_8  start_month_9  \\\n",
       "0              0              0              0              0              0   \n",
       "1              0              0              0              0              0   \n",
       "2              0              0              0              0              0   \n",
       "3              0              0              0              1              0   \n",
       "4              0              0              0              0              0   \n",
       "\n",
       "   start_month_10  start_month_11    daily goal  \n",
       "0               0               0  21963.636364  \n",
       "1               0               0  36240.000000  \n",
       "2               0               0   9318.857143  \n",
       "3               0               0  29716.800000  \n",
       "4               0               0   5116.235294  \n",
       "\n",
       "[5 rows x 48 columns]"
      ]
     },
     "execution_count": 41,
     "metadata": {},
     "output_type": "execute_result"
    }
   ],
   "source": [
    "train.head()"
   ]
  },
  {
   "cell_type": "code",
   "execution_count": 42,
   "metadata": {},
   "outputs": [
    {
     "data": {
      "text/html": [
       "<div>\n",
       "<style>\n",
       "    .dataframe thead tr:only-child th {\n",
       "        text-align: right;\n",
       "    }\n",
       "\n",
       "    .dataframe thead th {\n",
       "        text-align: left;\n",
       "    }\n",
       "\n",
       "    .dataframe tbody tr th {\n",
       "        vertical-align: top;\n",
       "    }\n",
       "</style>\n",
       "<table border=\"1\" class=\"dataframe\">\n",
       "  <thead>\n",
       "    <tr style=\"text-align: right;\">\n",
       "      <th></th>\n",
       "      <th>Goal</th>\n",
       "      <th>ID</th>\n",
       "      <th>Status</th>\n",
       "      <th>days</th>\n",
       "      <th>Category_0</th>\n",
       "      <th>Category_1</th>\n",
       "      <th>Category_2</th>\n",
       "      <th>Category_3</th>\n",
       "      <th>Category_4</th>\n",
       "      <th>Category_5</th>\n",
       "      <th>...</th>\n",
       "      <th>start_month_3</th>\n",
       "      <th>start_month_4</th>\n",
       "      <th>start_month_5</th>\n",
       "      <th>start_month_6</th>\n",
       "      <th>start_month_7</th>\n",
       "      <th>start_month_8</th>\n",
       "      <th>start_month_9</th>\n",
       "      <th>start_month_10</th>\n",
       "      <th>start_month_11</th>\n",
       "      <th>daily goal</th>\n",
       "    </tr>\n",
       "  </thead>\n",
       "  <tbody>\n",
       "    <tr>\n",
       "      <th>12120</th>\n",
       "      <td>724800</td>\n",
       "      <td>12121</td>\n",
       "      <td>NaN</td>\n",
       "      <td>30</td>\n",
       "      <td>0</td>\n",
       "      <td>0</td>\n",
       "      <td>0</td>\n",
       "      <td>0</td>\n",
       "      <td>0</td>\n",
       "      <td>0</td>\n",
       "      <td>...</td>\n",
       "      <td>1</td>\n",
       "      <td>0</td>\n",
       "      <td>0</td>\n",
       "      <td>0</td>\n",
       "      <td>0</td>\n",
       "      <td>0</td>\n",
       "      <td>0</td>\n",
       "      <td>0</td>\n",
       "      <td>0</td>\n",
       "      <td>24160.000000</td>\n",
       "    </tr>\n",
       "    <tr>\n",
       "      <th>12121</th>\n",
       "      <td>543600</td>\n",
       "      <td>12122</td>\n",
       "      <td>NaN</td>\n",
       "      <td>30</td>\n",
       "      <td>0</td>\n",
       "      <td>0</td>\n",
       "      <td>0</td>\n",
       "      <td>1</td>\n",
       "      <td>0</td>\n",
       "      <td>0</td>\n",
       "      <td>...</td>\n",
       "      <td>0</td>\n",
       "      <td>0</td>\n",
       "      <td>0</td>\n",
       "      <td>0</td>\n",
       "      <td>0</td>\n",
       "      <td>0</td>\n",
       "      <td>0</td>\n",
       "      <td>0</td>\n",
       "      <td>0</td>\n",
       "      <td>18120.000000</td>\n",
       "    </tr>\n",
       "    <tr>\n",
       "      <th>12122</th>\n",
       "      <td>36240</td>\n",
       "      <td>12123</td>\n",
       "      <td>NaN</td>\n",
       "      <td>30</td>\n",
       "      <td>0</td>\n",
       "      <td>0</td>\n",
       "      <td>0</td>\n",
       "      <td>0</td>\n",
       "      <td>0</td>\n",
       "      <td>0</td>\n",
       "      <td>...</td>\n",
       "      <td>0</td>\n",
       "      <td>0</td>\n",
       "      <td>0</td>\n",
       "      <td>0</td>\n",
       "      <td>0</td>\n",
       "      <td>0</td>\n",
       "      <td>0</td>\n",
       "      <td>0</td>\n",
       "      <td>0</td>\n",
       "      <td>1208.000000</td>\n",
       "    </tr>\n",
       "    <tr>\n",
       "      <th>12123</th>\n",
       "      <td>2141784</td>\n",
       "      <td>12124</td>\n",
       "      <td>NaN</td>\n",
       "      <td>30</td>\n",
       "      <td>0</td>\n",
       "      <td>0</td>\n",
       "      <td>0</td>\n",
       "      <td>0</td>\n",
       "      <td>0</td>\n",
       "      <td>0</td>\n",
       "      <td>...</td>\n",
       "      <td>0</td>\n",
       "      <td>0</td>\n",
       "      <td>0</td>\n",
       "      <td>0</td>\n",
       "      <td>0</td>\n",
       "      <td>0</td>\n",
       "      <td>0</td>\n",
       "      <td>0</td>\n",
       "      <td>0</td>\n",
       "      <td>71392.800000</td>\n",
       "    </tr>\n",
       "    <tr>\n",
       "      <th>12124</th>\n",
       "      <td>140250</td>\n",
       "      <td>12125</td>\n",
       "      <td>NaN</td>\n",
       "      <td>82</td>\n",
       "      <td>0</td>\n",
       "      <td>0</td>\n",
       "      <td>0</td>\n",
       "      <td>0</td>\n",
       "      <td>0</td>\n",
       "      <td>0</td>\n",
       "      <td>...</td>\n",
       "      <td>0</td>\n",
       "      <td>0</td>\n",
       "      <td>0</td>\n",
       "      <td>0</td>\n",
       "      <td>0</td>\n",
       "      <td>1</td>\n",
       "      <td>0</td>\n",
       "      <td>0</td>\n",
       "      <td>0</td>\n",
       "      <td>1710.365854</td>\n",
       "    </tr>\n",
       "  </tbody>\n",
       "</table>\n",
       "<p>5 rows × 48 columns</p>\n",
       "</div>"
      ],
      "text/plain": [
       "          Goal     ID Status  days  Category_0  Category_1  Category_2  \\\n",
       "12120   724800  12121    NaN    30           0           0           0   \n",
       "12121   543600  12122    NaN    30           0           0           0   \n",
       "12122    36240  12123    NaN    30           0           0           0   \n",
       "12123  2141784  12124    NaN    30           0           0           0   \n",
       "12124   140250  12125    NaN    82           0           0           0   \n",
       "\n",
       "       Category_3  Category_4  Category_5      ...       start_month_3  \\\n",
       "12120           0           0           0      ...                   1   \n",
       "12121           1           0           0      ...                   0   \n",
       "12122           0           0           0      ...                   0   \n",
       "12123           0           0           0      ...                   0   \n",
       "12124           0           0           0      ...                   0   \n",
       "\n",
       "       start_month_4  start_month_5  start_month_6  start_month_7  \\\n",
       "12120              0              0              0              0   \n",
       "12121              0              0              0              0   \n",
       "12122              0              0              0              0   \n",
       "12123              0              0              0              0   \n",
       "12124              0              0              0              0   \n",
       "\n",
       "       start_month_8  start_month_9  start_month_10  start_month_11  \\\n",
       "12120              0              0               0               0   \n",
       "12121              0              0               0               0   \n",
       "12122              0              0               0               0   \n",
       "12123              0              0               0               0   \n",
       "12124              1              0               0               0   \n",
       "\n",
       "         daily goal  \n",
       "12120  24160.000000  \n",
       "12121  18120.000000  \n",
       "12122   1208.000000  \n",
       "12123  71392.800000  \n",
       "12124   1710.365854  \n",
       "\n",
       "[5 rows x 48 columns]"
      ]
     },
     "execution_count": 42,
     "metadata": {},
     "output_type": "execute_result"
    }
   ],
   "source": [
    "test.head()"
   ]
  },
  {
   "cell_type": "code",
   "execution_count": 43,
   "metadata": {},
   "outputs": [],
   "source": [
    "# train[\"daily goal\"]=train[\"daily goal\"].astype('int64')\n",
    "# test[\"daily goal\"]=test[\"daily goal\"].astype('int64')"
   ]
  },
  {
   "cell_type": "code",
   "execution_count": 44,
   "metadata": {},
   "outputs": [
    {
     "name": "stderr",
     "output_type": "stream",
     "text": [
      "/home/sirzechlucifer/anaconda3/lib/python3.6/site-packages/ipykernel_launcher.py:4: SettingWithCopyWarning: \n",
      "A value is trying to be set on a copy of a slice from a DataFrame.\n",
      "Try using .loc[row_indexer,col_indexer] = value instead\n",
      "\n",
      "See the caveats in the documentation: http://pandas.pydata.org/pandas-docs/stable/indexing.html#indexing-view-versus-copy\n",
      "  after removing the cwd from sys.path.\n",
      "/home/sirzechlucifer/anaconda3/lib/python3.6/site-packages/ipykernel_launcher.py:5: SettingWithCopyWarning: \n",
      "A value is trying to be set on a copy of a slice from a DataFrame.\n",
      "Try using .loc[row_indexer,col_indexer] = value instead\n",
      "\n",
      "See the caveats in the documentation: http://pandas.pydata.org/pandas-docs/stable/indexing.html#indexing-view-versus-copy\n",
      "  \"\"\"\n"
     ]
    }
   ],
   "source": [
    "result_map={'Failed':0,'Success':1}\n",
    "train_test=[train]\n",
    "for entry in train_test:\n",
    "    entry[\"Status\"]=entry[\"Status\"].map(result_map)\n",
    "train[\"Status\"]=train[\"Status\"].astype('int64')"
   ]
  },
  {
   "cell_type": "code",
   "execution_count": 45,
   "metadata": {
    "collapsed": true
   },
   "outputs": [],
   "source": [
    "from sklearn.preprocessing import StandardScaler"
   ]
  },
  {
   "cell_type": "code",
   "execution_count": 46,
   "metadata": {
    "collapsed": true
   },
   "outputs": [],
   "source": [
    "ss=StandardScaler()"
   ]
  },
  {
   "cell_type": "code",
   "execution_count": 47,
   "metadata": {},
   "outputs": [
    {
     "name": "stderr",
     "output_type": "stream",
     "text": [
      "/home/sirzechlucifer/anaconda3/lib/python3.6/site-packages/ipykernel_launcher.py:3: SettingWithCopyWarning: \n",
      "A value is trying to be set on a copy of a slice from a DataFrame\n",
      "\n",
      "See the caveats in the documentation: http://pandas.pydata.org/pandas-docs/stable/indexing.html#indexing-view-versus-copy\n",
      "  This is separate from the ipykernel package so we can avoid doing imports until\n",
      "/home/sirzechlucifer/anaconda3/lib/python3.6/site-packages/ipykernel_launcher.py:4: SettingWithCopyWarning: \n",
      "A value is trying to be set on a copy of a slice from a DataFrame\n",
      "\n",
      "See the caveats in the documentation: http://pandas.pydata.org/pandas-docs/stable/indexing.html#indexing-view-versus-copy\n",
      "  after removing the cwd from sys.path.\n"
     ]
    }
   ],
   "source": [
    "ID=test[\"ID\"]\n",
    "target=train[\"Status\"]\n",
    "train.drop([\"ID\",\"Status\"],inplace=True,axis=1)\n",
    "test.drop([\"ID\",\"Status\"],inplace=True,axis=1)"
   ]
  },
  {
   "cell_type": "code",
   "execution_count": 48,
   "metadata": {},
   "outputs": [
    {
     "data": {
      "text/html": [
       "<div>\n",
       "<style>\n",
       "    .dataframe thead tr:only-child th {\n",
       "        text-align: right;\n",
       "    }\n",
       "\n",
       "    .dataframe thead th {\n",
       "        text-align: left;\n",
       "    }\n",
       "\n",
       "    .dataframe tbody tr th {\n",
       "        vertical-align: top;\n",
       "    }\n",
       "</style>\n",
       "<table border=\"1\" class=\"dataframe\">\n",
       "  <thead>\n",
       "    <tr style=\"text-align: right;\">\n",
       "      <th></th>\n",
       "      <th>Goal</th>\n",
       "      <th>days</th>\n",
       "      <th>Category_0</th>\n",
       "      <th>Category_1</th>\n",
       "      <th>Category_2</th>\n",
       "      <th>Category_3</th>\n",
       "      <th>Category_4</th>\n",
       "      <th>Category_5</th>\n",
       "      <th>Category_6</th>\n",
       "      <th>Category_7</th>\n",
       "      <th>...</th>\n",
       "      <th>start_month_3</th>\n",
       "      <th>start_month_4</th>\n",
       "      <th>start_month_5</th>\n",
       "      <th>start_month_6</th>\n",
       "      <th>start_month_7</th>\n",
       "      <th>start_month_8</th>\n",
       "      <th>start_month_9</th>\n",
       "      <th>start_month_10</th>\n",
       "      <th>start_month_11</th>\n",
       "      <th>daily goal</th>\n",
       "    </tr>\n",
       "  </thead>\n",
       "  <tbody>\n",
       "    <tr>\n",
       "      <th>0</th>\n",
       "      <td>724800</td>\n",
       "      <td>33</td>\n",
       "      <td>0</td>\n",
       "      <td>0</td>\n",
       "      <td>0</td>\n",
       "      <td>1</td>\n",
       "      <td>0</td>\n",
       "      <td>0</td>\n",
       "      <td>0</td>\n",
       "      <td>0</td>\n",
       "      <td>...</td>\n",
       "      <td>0</td>\n",
       "      <td>0</td>\n",
       "      <td>0</td>\n",
       "      <td>0</td>\n",
       "      <td>0</td>\n",
       "      <td>0</td>\n",
       "      <td>0</td>\n",
       "      <td>0</td>\n",
       "      <td>0</td>\n",
       "      <td>21963.636364</td>\n",
       "    </tr>\n",
       "    <tr>\n",
       "      <th>1</th>\n",
       "      <td>1449600</td>\n",
       "      <td>40</td>\n",
       "      <td>0</td>\n",
       "      <td>0</td>\n",
       "      <td>0</td>\n",
       "      <td>1</td>\n",
       "      <td>0</td>\n",
       "      <td>0</td>\n",
       "      <td>0</td>\n",
       "      <td>0</td>\n",
       "      <td>...</td>\n",
       "      <td>0</td>\n",
       "      <td>0</td>\n",
       "      <td>0</td>\n",
       "      <td>0</td>\n",
       "      <td>0</td>\n",
       "      <td>0</td>\n",
       "      <td>0</td>\n",
       "      <td>0</td>\n",
       "      <td>0</td>\n",
       "      <td>36240.000000</td>\n",
       "    </tr>\n",
       "    <tr>\n",
       "      <th>2</th>\n",
       "      <td>195696</td>\n",
       "      <td>21</td>\n",
       "      <td>0</td>\n",
       "      <td>0</td>\n",
       "      <td>0</td>\n",
       "      <td>0</td>\n",
       "      <td>0</td>\n",
       "      <td>0</td>\n",
       "      <td>0</td>\n",
       "      <td>0</td>\n",
       "      <td>...</td>\n",
       "      <td>1</td>\n",
       "      <td>0</td>\n",
       "      <td>0</td>\n",
       "      <td>0</td>\n",
       "      <td>0</td>\n",
       "      <td>0</td>\n",
       "      <td>0</td>\n",
       "      <td>0</td>\n",
       "      <td>0</td>\n",
       "      <td>9318.857143</td>\n",
       "    </tr>\n",
       "    <tr>\n",
       "      <th>3</th>\n",
       "      <td>2674512</td>\n",
       "      <td>90</td>\n",
       "      <td>0</td>\n",
       "      <td>0</td>\n",
       "      <td>0</td>\n",
       "      <td>0</td>\n",
       "      <td>0</td>\n",
       "      <td>0</td>\n",
       "      <td>0</td>\n",
       "      <td>0</td>\n",
       "      <td>...</td>\n",
       "      <td>0</td>\n",
       "      <td>0</td>\n",
       "      <td>0</td>\n",
       "      <td>0</td>\n",
       "      <td>0</td>\n",
       "      <td>1</td>\n",
       "      <td>0</td>\n",
       "      <td>0</td>\n",
       "      <td>0</td>\n",
       "      <td>29716.800000</td>\n",
       "    </tr>\n",
       "    <tr>\n",
       "      <th>4</th>\n",
       "      <td>86976</td>\n",
       "      <td>17</td>\n",
       "      <td>0</td>\n",
       "      <td>0</td>\n",
       "      <td>0</td>\n",
       "      <td>0</td>\n",
       "      <td>0</td>\n",
       "      <td>0</td>\n",
       "      <td>0</td>\n",
       "      <td>0</td>\n",
       "      <td>...</td>\n",
       "      <td>0</td>\n",
       "      <td>0</td>\n",
       "      <td>0</td>\n",
       "      <td>0</td>\n",
       "      <td>0</td>\n",
       "      <td>0</td>\n",
       "      <td>0</td>\n",
       "      <td>0</td>\n",
       "      <td>0</td>\n",
       "      <td>5116.235294</td>\n",
       "    </tr>\n",
       "  </tbody>\n",
       "</table>\n",
       "<p>5 rows × 46 columns</p>\n",
       "</div>"
      ],
      "text/plain": [
       "      Goal  days  Category_0  Category_1  Category_2  Category_3  Category_4  \\\n",
       "0   724800    33           0           0           0           1           0   \n",
       "1  1449600    40           0           0           0           1           0   \n",
       "2   195696    21           0           0           0           0           0   \n",
       "3  2674512    90           0           0           0           0           0   \n",
       "4    86976    17           0           0           0           0           0   \n",
       "\n",
       "   Category_5  Category_6  Category_7      ...       start_month_3  \\\n",
       "0           0           0           0      ...                   0   \n",
       "1           0           0           0      ...                   0   \n",
       "2           0           0           0      ...                   1   \n",
       "3           0           0           0      ...                   0   \n",
       "4           0           0           0      ...                   0   \n",
       "\n",
       "   start_month_4  start_month_5  start_month_6  start_month_7  start_month_8  \\\n",
       "0              0              0              0              0              0   \n",
       "1              0              0              0              0              0   \n",
       "2              0              0              0              0              0   \n",
       "3              0              0              0              0              1   \n",
       "4              0              0              0              0              0   \n",
       "\n",
       "   start_month_9  start_month_10  start_month_11    daily goal  \n",
       "0              0               0               0  21963.636364  \n",
       "1              0               0               0  36240.000000  \n",
       "2              0               0               0   9318.857143  \n",
       "3              0               0               0  29716.800000  \n",
       "4              0               0               0   5116.235294  \n",
       "\n",
       "[5 rows x 46 columns]"
      ]
     },
     "execution_count": 48,
     "metadata": {},
     "output_type": "execute_result"
    }
   ],
   "source": [
    "train.head()"
   ]
  },
  {
   "cell_type": "markdown",
   "metadata": {},
   "source": [
    "# XGBOOST"
   ]
  },
  {
   "cell_type": "code",
   "execution_count": 103,
   "metadata": {
    "collapsed": true
   },
   "outputs": [],
   "source": [
    "from sklearn.model_selection import train_test_split\n",
    "from xgboost import XGBClassifier\n",
    "from sklearn.ensemble import GradientBoostingClassifier"
   ]
  },
  {
   "cell_type": "code",
   "execution_count": 104,
   "metadata": {
    "collapsed": true
   },
   "outputs": [],
   "source": [
    "train_1,cross_val,target_train,target_crossval=train_test_split(train,target,test_size=0.20,shuffle=True)\n",
    "cross_val1,test_crossval,target_crossval1,target_test=train_test_split(cross_val,target_crossval,test_size=0.1,shuffle=True)"
   ]
  },
  {
   "cell_type": "code",
   "execution_count": 105,
   "metadata": {
    "collapsed": true
   },
   "outputs": [],
   "source": [
    "from sklearn.metrics import accuracy_score\n",
    "from sklearn.metrics import f1_score"
   ]
  },
  {
   "cell_type": "code",
   "execution_count": 106,
   "metadata": {
    "collapsed": true
   },
   "outputs": [],
   "source": [
    "my_model=XGBClassifier(random_state=1001)\n",
    "#my_model=GradientBoostingClassifier(random_state=1001)"
   ]
  },
  {
   "cell_type": "markdown",
   "metadata": {},
   "source": [
    "{'colsample_bytree': 1.0,\n",
    " 'gamma': 5,\n",
    " 'learning_rate': 0.2,\n",
    " 'max_depth': 5,\n",
    " 'min_child_weight': 5,\n",
    " 'n_estimators': 200,\n",
    " 'subsample': 0.6}"
   ]
  },
  {
   "cell_type": "code",
   "execution_count": 107,
   "metadata": {},
   "outputs": [
    {
     "data": {
      "text/plain": [
       "XGBClassifier(base_score=0.5, booster='gbtree', colsample_bylevel=1,\n",
       "       colsample_bytree=1, gamma=0, learning_rate=0.1, max_delta_step=0,\n",
       "       max_depth=3, min_child_weight=1, missing=None, n_estimators=100,\n",
       "       n_jobs=1, nthread=None, objective='binary:logistic',\n",
       "       random_state=1001, reg_alpha=0, reg_lambda=1, scale_pos_weight=1,\n",
       "       seed=None, silent=True, subsample=1)"
      ]
     },
     "execution_count": 107,
     "metadata": {},
     "output_type": "execute_result"
    }
   ],
   "source": [
    "my_model.fit(train_1,target_train)"
   ]
  },
  {
   "cell_type": "code",
   "execution_count": 108,
   "metadata": {},
   "outputs": [
    {
     "name": "stdout",
     "output_type": "stream",
     "text": [
      "The accuracy for cross_val is:0.67537826685\n",
      "The accuracy for test  is:0.711934156379\n",
      "The f1 score for cross_val is:0.6\n",
      "The f1 score for test  is:0.602272727273\n"
     ]
    }
   ],
   "source": [
    "predictions=my_model.predict(cross_val1)\n",
    "print(\"The accuracy for cross_val is:\"+str(accuracy_score(predictions,target_crossval1)))\n",
    "final_pred=my_model.predict(test_crossval)\n",
    "print(\"The accuracy for test  is:\"+str(accuracy_score(final_pred,target_test)))\n",
    "print(\"The f1 score for cross_val is:\"+str(f1_score(predictions,target_crossval1)))\n",
    "print(\"The f1 score for test  is:\"+str(f1_score(final_pred,target_test)))"
   ]
  },
  {
   "cell_type": "code",
   "execution_count": null,
   "metadata": {
    "collapsed": true
   },
   "outputs": [],
   "source": []
  },
  {
   "cell_type": "markdown",
   "metadata": {},
   "source": [
    "# BEST Parameter Search"
   ]
  },
  {
   "cell_type": "code",
   "execution_count": 55,
   "metadata": {
    "collapsed": true
   },
   "outputs": [],
   "source": [
    "# from sklearn.ensemble import RandomForestClassifier\n",
    "# from xgboost import XGBClassifier\n",
    "# from pprint import pprint"
   ]
  },
  {
   "cell_type": "code",
   "execution_count": 56,
   "metadata": {
    "collapsed": true
   },
   "outputs": [],
   "source": [
    "from sklearn.model_selection import RandomizedSearchCV,GridSearchCV"
   ]
  },
  {
   "cell_type": "code",
   "execution_count": 57,
   "metadata": {
    "collapsed": true
   },
   "outputs": [],
   "source": [
    "params = {\n",
    "        'min_child_weight': [1, 5, 10],\n",
    "        'gamma': [0.5, 1, 1.5, 2, 5],\n",
    "        'subsample': [0.6, 0.8, 1.0],\n",
    "        'colsample_bytree': [0.6, 0.8, 1.0],\n",
    "        'max_depth': [3, 4, 5]\n",
    "        }\n",
    "\n",
    "xgb = XGBClassifier(learning_rate=0.1, n_estimators=600, objective='binary:logistic',\n",
    "                  silent=True, nthread=1)\n"
   ]
  },
  {
   "cell_type": "code",
   "execution_count": 58,
   "metadata": {
    "collapsed": true
   },
   "outputs": [],
   "source": [
    "from sklearn.model_selection import StratifiedKFold"
   ]
  },
  {
   "cell_type": "code",
   "execution_count": 59,
   "metadata": {
    "scrolled": true
   },
   "outputs": [],
   "source": [
    "# folds = 5\n",
    "\n",
    "# skf = StratifiedKFold(n_splits=folds, shuffle = True, random_state = 1001)\n",
    "\n",
    "# random_search = GridSearchCV(xgb,params, scoring='f1', n_jobs=4, cv=skf.split(train_1,target_train), verbose=3) \n",
    "# random_search.fit(train_1,target_train)"
   ]
  },
  {
   "cell_type": "code",
   "execution_count": 60,
   "metadata": {},
   "outputs": [],
   "source": [
    "# random_search.best_params_"
   ]
  },
  {
   "cell_type": "code",
   "execution_count": 61,
   "metadata": {},
   "outputs": [],
   "source": [
    "# my_model.fit(train_1,target_train)\n",
    "# predictions=random_search.predict(cross_val1)\n",
    "# print(\"The accuracy for cross_val is:\"+str(accuracy_score(predictions,target_crossval1)))\n",
    "# final_pred=random_search.predict(test_crossval)\n",
    "# print(\"The accuracy for test  is:\"+str(accuracy_score(final_pred,target_test)))\n",
    "# print(\"The f1 score for cross_val is:\"+str(f1_score(predictions,target_crossval1)))\n",
    "# print(\"The f1 score for test  is:\"+str(f1_score(final_pred,target_test)))"
   ]
  },
  {
   "cell_type": "code",
   "execution_count": 109,
   "metadata": {},
   "outputs": [],
   "source": [
    "final_predictions=my_model.predict(test)"
   ]
  },
  {
   "cell_type": "code",
   "execution_count": 110,
   "metadata": {},
   "outputs": [
    {
     "data": {
      "text/plain": [
       "0"
      ]
     },
     "execution_count": 110,
     "metadata": {},
     "output_type": "execute_result"
    }
   ],
   "source": [
    "final_predictions[0]"
   ]
  },
  {
   "cell_type": "code",
   "execution_count": 111,
   "metadata": {
    "collapsed": true
   },
   "outputs": [],
   "source": [
    "submission = pd.DataFrame({\"Id\":ID,\"Status\": final_predictions})\n",
    "submission.to_csv('tenth.csv', index=False)"
   ]
  },
  {
   "cell_type": "code",
   "execution_count": 112,
   "metadata": {
    "collapsed": true
   },
   "outputs": [],
   "source": [
    "submission=pd.read_csv(\"tenth.csv\")"
   ]
  },
  {
   "cell_type": "code",
   "execution_count": 113,
   "metadata": {},
   "outputs": [
    {
     "data": {
      "text/html": [
       "<div>\n",
       "<style>\n",
       "    .dataframe thead tr:only-child th {\n",
       "        text-align: right;\n",
       "    }\n",
       "\n",
       "    .dataframe thead th {\n",
       "        text-align: left;\n",
       "    }\n",
       "\n",
       "    .dataframe tbody tr th {\n",
       "        vertical-align: top;\n",
       "    }\n",
       "</style>\n",
       "<table border=\"1\" class=\"dataframe\">\n",
       "  <thead>\n",
       "    <tr style=\"text-align: right;\">\n",
       "      <th></th>\n",
       "      <th>Id</th>\n",
       "      <th>Status</th>\n",
       "    </tr>\n",
       "  </thead>\n",
       "  <tbody>\n",
       "    <tr>\n",
       "      <th>0</th>\n",
       "      <td>12121</td>\n",
       "      <td>0</td>\n",
       "    </tr>\n",
       "    <tr>\n",
       "      <th>1</th>\n",
       "      <td>12122</td>\n",
       "      <td>0</td>\n",
       "    </tr>\n",
       "    <tr>\n",
       "      <th>2</th>\n",
       "      <td>12123</td>\n",
       "      <td>1</td>\n",
       "    </tr>\n",
       "    <tr>\n",
       "      <th>3</th>\n",
       "      <td>12124</td>\n",
       "      <td>0</td>\n",
       "    </tr>\n",
       "    <tr>\n",
       "      <th>4</th>\n",
       "      <td>12125</td>\n",
       "      <td>0</td>\n",
       "    </tr>\n",
       "  </tbody>\n",
       "</table>\n",
       "</div>"
      ],
      "text/plain": [
       "      Id  Status\n",
       "0  12121       0\n",
       "1  12122       0\n",
       "2  12123       1\n",
       "3  12124       0\n",
       "4  12125       0"
      ]
     },
     "execution_count": 113,
     "metadata": {},
     "output_type": "execute_result"
    }
   ],
   "source": [
    "submission.head()"
   ]
  },
  {
   "cell_type": "code",
   "execution_count": 114,
   "metadata": {
    "collapsed": true
   },
   "outputs": [],
   "source": [
    "result_map={0:'Failed',1:'Success'}\n",
    "train_test=[submission]\n",
    "for entry in train_test:\n",
    "    submission[\"Status\"]=submission[\"Status\"].map(result_map)"
   ]
  },
  {
   "cell_type": "code",
   "execution_count": 115,
   "metadata": {
    "collapsed": true
   },
   "outputs": [],
   "source": [
    "submission.to_csv('tenth.csv', index=False)"
   ]
  },
  {
   "cell_type": "code",
   "execution_count": null,
   "metadata": {
    "collapsed": true
   },
   "outputs": [],
   "source": []
  },
  {
   "cell_type": "code",
   "execution_count": null,
   "metadata": {
    "collapsed": true
   },
   "outputs": [],
   "source": []
  }
 ],
 "metadata": {
  "kernelspec": {
   "display_name": "Python 3",
   "language": "python",
   "name": "python3"
  },
  "language_info": {
   "codemirror_mode": {
    "name": "ipython",
    "version": 3
   },
   "file_extension": ".py",
   "mimetype": "text/x-python",
   "name": "python",
   "nbconvert_exporter": "python",
   "pygments_lexer": "ipython3",
   "version": "3.6.3"
  }
 },
 "nbformat": 4,
 "nbformat_minor": 2
}
